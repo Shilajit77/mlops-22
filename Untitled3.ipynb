{
 "cells": [
  {
   "cell_type": "code",
   "execution_count": 11,
   "id": "e8be11c4",
   "metadata": {
    "ExecuteTime": {
     "end_time": "2022-10-23T05:19:31.014786Z",
     "start_time": "2022-10-23T05:19:30.678121Z"
    }
   },
   "outputs": [
    {
     "name": "stdout",
     "output_type": "stream",
     "text": [
      "     Actual  Predicted\n",
      "0         1          1\n",
      "1         1          1\n",
      "2         3          3\n",
      "3         1          1\n",
      "4         4          4\n",
      "..      ...        ...\n",
      "176       3          3\n",
      "177       0          0\n",
      "178       9          9\n",
      "179       1          1\n",
      "180       2          2\n",
      "\n",
      "[181 rows x 2 columns]\n",
      "Here are the unique case:  [0 1 2 3 4 5 6 7 8 9]\n"
     ]
    },
    {
     "data": {
      "image/png": "[encoded data removed]",
      "text/plain": [
       "<Figure size 720x216 with 4 Axes>"
      ]
     },
     "metadata": {
      "needs_background": "light"
     },
     "output_type": "display_data"
    }
   ],
   "source": [
    "\"\"\"\n",
    "================================\n",
    "Recognizing hand-written digits\n",
    "================================\n",
    "\n",
    "This example shows how scikit-learn can be used to recognize images of\n",
    "hand-written digits, from 0-9.\n",
    "\n",
    "\"\"\"\n",
    "import numpy as np\n",
    "import pandas as pd\n",
    "# Author: Gael Varoquaux <gael dot varoquaux at normalesup dot org>\n",
    "# License: BSD 3 clause\n",
    "\n",
    "# Standard scientific Python imports\n",
    "import matplotlib.pyplot as plt\n",
    "\n",
    "# Import datasets, classifiers and performance metrics\n",
    "from sklearn import datasets, svm, metrics\n",
    "from sklearn.model_selection import train_test_split\n",
    "\n",
    "###############################################################################\n",
    "# Digits dataset\n",
    "# --------------\n",
    "#\n",
    "# The digits dataset consists of 8x8\n",
    "# pixel images of digits. The ``images`` attribute of the dataset stores\n",
    "# 8x8 arrays of grayscale values for each image. We will use these arrays to\n",
    "# visualize the first 4 images. The ``target`` attribute of the dataset stores\n",
    "# the digit each image represents and this is included in the title of the 4\n",
    "# plots below.\n",
    "#\n",
    "# Note: if we were working from image files (e.g., 'png' files), we would load\n",
    "# them using :func:`matplotlib.pyplot.imread`.\n",
    "\n",
    "digits = datasets.load_digits()\n",
    "\n",
    "_, axes = plt.subplots(nrows=1, ncols=4, figsize=(10, 3))\n",
    "for ax, image, label in zip(axes, digits.images, digits.target):\n",
    "    ax.set_axis_off()\n",
    "    ax.imshow(image, cmap=plt.cm.gray_r, interpolation=\"nearest\")\n",
    "    ax.set_title(\"Training: %i\" % label)\n",
    "\n",
    "###############################################################################\n",
    "# Classification\n",
    "# --------------\n",
    "#\n",
    "# To apply a classifier on this data, we need to flatten the images, turning\n",
    "# each 2-D array of grayscale values from shape ``(8, 8)`` into shape\n",
    "# ``(64,)``. Subsequently, the entire dataset will be of shape\n",
    "# ``(n_samples, n_features)``, where ``n_samples`` is the number of images and\n",
    "# ``n_features`` is the total number of pixels in each image.\n",
    "#\n",
    "# We can then split the data into train and test subsets and fit a support\n",
    "# vector classifier on the train samples. The fitted classifier can\n",
    "# subsequently be used to predict the value of the digit for the samples\n",
    "# in the test subset.\n",
    "\n",
    "# flatten the images\n",
    "n_samples = len(digits.images)\n",
    "data = digits.images.reshape((n_samples, -1))\n",
    "\n",
    "# Create a classifier: a support vector classifier\n",
    "clf = svm.SVC(gamma=0.001)\n",
    "\n",
    "# Split data into 50% train and 50% test subsets\n",
    "train_frac = 0.8\n",
    "test_frac = 0.1\n",
    "dev_frac = 0.1\n",
    "\n",
    "\n",
    "\n",
    "n_samples = len(digits.images)\n",
    "data = digits.images.reshape((n_samples, -1))\n",
    "\n",
    "\n",
    "\n",
    "svm_acc = []\n",
    "dt_acc = []\n",
    "\n",
    "#PART: define train/dev/test splits of experiment protocol\n",
    "# train to train model\n",
    "# dev to set hyperparameters of the model\n",
    "# test to evaluate the performance of the model\n",
    "dev_test_frac = 1-train_frac\n",
    "\n",
    "\n",
    "X_train1, X_dev_test1, y_train1, y_dev_test1 = train_test_split(\n",
    "data, digits.target, test_size=dev_test_frac, shuffle=True\n",
    ")\n",
    "X_test1, X_dev1, y_test1, y_dev1 = train_test_split(\n",
    "X_dev_test1, y_dev_test1, test_size=(dev_frac)/dev_test_frac, shuffle=True\n",
    ")\n",
    "clf.fit(X_train1, y_train1)\n",
    "ypred = clf.predict(X_dev1)\n",
    "yactual = pd.DataFrame(y_dev1,columns=['Actual'])\n",
    "yactual['Predicted'] = ypred\n",
    "print(yactual)\n",
    "print(\"Here are the unique case: \",np.unique(yactual['Predicted']))\n",
    "\n",
    "\n"
   ]
  },
  {
   "cell_type": "code",
   "execution_count": null,
   "id": "e69d3597",
   "metadata": {},
   "outputs": [],
   "source": []
  }
 ],
 "metadata": {
  "kernelspec": {
   "display_name": "Python 3 (ipykernel)",
   "language": "python",
   "name": "python3"
  },
  "language_info": {
   "codemirror_mode": {
    "name": "ipython",
    "version": 3
   },
   "file_extension": ".py",
   "mimetype": "text/x-python",
   "name": "python",
   "nbconvert_exporter": "python",
   "pygments_lexer": "ipython3",
   "version": "3.9.12"
  },
  "toc": {
   "base_numbering": 1,
   "nav_menu": {},
   "number_sections": true,
   "sideBar": true,
   "skip_h1_title": false,
   "title_cell": "Table of Contents",
   "title_sidebar": "Contents",
   "toc_cell": false,
   "toc_position": {},
   "toc_section_display": true,
   "toc_window_display": false
  }
 },
 "nbformat": 4,
 "nbformat_minor": 5
}
